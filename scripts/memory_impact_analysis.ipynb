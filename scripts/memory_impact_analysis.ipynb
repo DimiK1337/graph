{
 "cells": [
  {
   "cell_type": "code",
   "execution_count": 11,
   "metadata": {},
   "outputs": [
    {
     "name": "stdout",
     "output_type": "stream",
     "text": [
      "Benchmark results:\n",
      "Spec:\n",
      "{'spec': 'Given graph = new Graph(Tuple) when benchmarking graph.addNode function then adding 1 node to nodes takes', 'measurement': {'performance': {'structure': 'Object', 'action': 'addNode', 'time': 0}}}\n",
      "Spec: Given graph = new Graph(Tuple) when benchmarking graph.addNode function then adding 1 node to nodes takes\n",
      "Measurements:\n",
      "{'performance': {'structure': 'Object', 'action': 'addNode', 'time': 0}}\n",
      "Performance:\n",
      "[{'spec': 'Given graph = new Graph(Tuple) when benchmarking graph.addNode function then adding 1 node to nodes takes', 'actions': {'structure': 'Object', 'action': 'addNode', 'time': 0}}, {}, {'spec': 'Given graph = new Graph(Tuple) when benchmarking graph.createNodes function then create 1 node takes', 'actions': {'structure': 'Object', 'action': 'createNodes', 'qty': 1, 'time': 0}}, {}, {}, {}, {'spec': 'Given graph = new Graph(Tuple) when benchmarking graph.createNodes function then create 10 node takes', 'actions': {'structure': 'Object', 'action': 'createNodes', 'qty': 10, 'time': 0}}, {'spec': 'Given graph = new Graph(Tuple) when benchmarking graph.createNodes function then create 10000 node takes', 'actions': {'structure': 'Object', 'action': 'createNodes', 'qty': 10000, 'time': 11}}, {'spec': 'Given graph = new Graph(Tuple) when benchmarking graph.createNodes function then create 100 node takes', 'actions': {'structure': 'Object', 'action': 'createNodes', 'qty': 100, 'time': 0.10000000894069672}}, {'spec': 'Given graph = new Graph(Tuple) when benchmarking graph.createNodes function then create 1000 node takes', 'actions': {'structure': 'Object', 'action': 'createNodes', 'qty': 1000, 'time': 1.0999999940395355}}, {}, {}, {}, {'spec': 'Given graph = new Graph(Object) when benchmarking graph.addNode function then adding 1 node to nodes takes', 'actions': {'structure': 'Object', 'action': 'addNode', 'time': 0}}, {}, {'spec': 'Given graph = new Graph(Object) when benchmarking graph.createNodes function then create 100 node takes', 'actions': {'structure': 'Object', 'action': 'createNodes', 'qty': 100, 'time': 0.20000000298023224}}, {'spec': 'Given graph = new Graph(Object) when benchmarking graph.createNodes function then create 10 node takes', 'actions': {'structure': 'Object', 'action': 'createNodes', 'qty': 10, 'time': 0.09999999403953552}}, {}, {}, {'spec': 'Given graph = new Graph(Object) when benchmarking graph.createNodes function then create 1000 node takes', 'actions': {'structure': 'Object', 'action': 'createNodes', 'qty': 1000, 'time': 1.1000000089406967}}, {'spec': 'Given graph = new Graph(Object) when benchmarking graph.createNodes function then create 1 node takes', 'actions': {'structure': 'Object', 'action': 'createNodes', 'qty': 1, 'time': 0}}, {}, {}, {'spec': 'Given graph = new Graph(Object) when benchmarking graph.createNodes function then create 10000 node takes', 'actions': {'structure': 'Object', 'action': 'createNodes', 'qty': 10000, 'time': 9.900000005960464}}]\n",
      "Memory:\n",
      "[{}, {'spec': 'Given graph = new Graph(Tuple) when benchmarking graph.addNode function then adding 1 node to nodes consumes', 'actions': {'structure': 'Object', 'action': 'addNode', 'size': 1532}}, {}, {'spec': 'Given graph = new Graph(Tuple) when benchmarking graph.createNodes function then create 10000 node consumes', 'actions': {'structure': 'Object', 'action': 'createNodes', 'qty': 10000, 'size': 1395456}}, {'spec': 'Given graph = new Graph(Tuple) when benchmarking graph.createNodes function then create 10 node consumes', 'actions': {'structure': 'Object', 'action': 'createNodes', 'qty': 10, 'size': 1480}}, {'spec': 'Given graph = new Graph(Tuple) when benchmarking graph.createNodes function then create 1 node consumes', 'actions': {'structure': 'Object', 'action': 'createNodes', 'qty': 1, 'size': 256}}, {}, {}, {}, {}, {'spec': 'Given graph = new Graph(Tuple) when benchmarking graph.createNodes function then create 100 node consumes', 'actions': {'structure': 'Object', 'action': 'createNodes', 'qty': 100, 'size': 13860}}, {'spec': 'Given graph = new Graph(Tuple) when benchmarking graph.createNodes function then create 1000 node consumes', 'actions': {'structure': 'Object', 'action': 'createNodes', 'qty': 1000, 'size': 140996}}, {'spec': 'Given graph = new Graph(Object) when benchmarking graph.addNode function then adding 1 node to nodes consumes', 'actions': {'structure': 'Object', 'action': 'addNode', 'size': 220}}, {}, {'spec': 'Given graph = new Graph(Object) when benchmarking graph.createNodes function then create 100 node consumes', 'actions': {'structure': 'Object', 'action': 'createNodes', 'qty': 100, 'size': 10128}}, {}, {}, {'spec': 'Given graph = new Graph(Object) when benchmarking graph.createNodes function then create 1 node consumes', 'actions': {'structure': 'Object', 'action': 'createNodes', 'qty': 1, 'size': 228}}, {'spec': 'Given graph = new Graph(Object) when benchmarking graph.createNodes function then create 1000 node consumes', 'actions': {'structure': 'Object', 'action': 'createNodes', 'qty': 1000, 'size': 100540}}, {}, {}, {'spec': 'Given graph = new Graph(Object) when benchmarking graph.createNodes function then create 10 node consumes', 'actions': {'structure': 'Object', 'action': 'createNodes', 'qty': 10, 'size': 1080}}, {'spec': 'Given graph = new Graph(Object) when benchmarking graph.createNodes function then create 10000 node consumes', 'actions': {'structure': 'Object', 'action': 'createNodes', 'qty': 10000, 'size': 925840}}, {}]\n",
      "24\n",
      "24\n",
      "24\n"
     ]
    }
   ],
   "source": [
    "import json\n",
    "\n",
    "\n",
    "benchmark_file = \"../output/benchmark.report.json\"\n",
    "\n",
    "with open(benchmark_file) as f:\n",
    "    data = json.load(f)\n",
    "\n",
    "print(\"Benchmark results:\")\n",
    "\n",
    "spec = data[0]\n",
    "spec_name = spec[\"spec\"]\n",
    "spec_measurements_type = spec[\"measurement\"]"
   ]
  },
  {
   "cell_type": "code",
   "execution_count": 15,
   "metadata": {},
   "outputs": [
    {
     "name": "stdout",
     "output_type": "stream",
     "text": [
      "Structure: Object\n",
      "Structure: Object\n",
      "Structure: Object\n",
      "Structure: Object\n",
      "Structure: Object\n",
      "Structure: Object\n",
      "Structure: Object\n",
      "Structure: Object\n",
      "Structure: Object\n",
      "Structure: Object\n",
      "Structure: Object\n",
      "Structure: Object\n",
      "Structure: Object\n",
      "Structure: Object\n",
      "Structure: Object\n",
      "Structure: Object\n",
      "Structure: Object\n",
      "Structure: Object\n",
      "Structure: Object\n",
      "Structure: Object\n",
      "Structure: Object\n",
      "Structure: Object\n",
      "Structure: Object\n",
      "Structure: Object\n",
      "[]\n"
     ]
    }
   ],
   "source": [
    "\n",
    "import struct\n",
    "import pandas as pd\n",
    "\n",
    "# Split the data by data structure: Object vs Tuple by looping over all the data\n",
    "object_data = []\n",
    "tuple_data = []\n",
    "\n",
    "\n",
    "for spec in data:\n",
    "    spec_name = spec[\"spec\"]\n",
    "    spec_measurements_type = spec[\"measurement\"]\n",
    "    for name, measurement_dict  in spec_measurements_type.items():\n",
    "        structure = measurement_dict[\"structure\"]\n",
    "        print(f\"Structure: {structure}\")\n",
    "        "
   ]
  }
 ],
 "metadata": {
  "kernelspec": {
   "display_name": "Python 3",
   "language": "python",
   "name": "python3"
  },
  "language_info": {
   "codemirror_mode": {
    "name": "ipython",
    "version": 3
   },
   "file_extension": ".py",
   "mimetype": "text/x-python",
   "name": "python",
   "nbconvert_exporter": "python",
   "pygments_lexer": "ipython3",
   "version": "3.10.12"
  }
 },
 "nbformat": 4,
 "nbformat_minor": 2
}
